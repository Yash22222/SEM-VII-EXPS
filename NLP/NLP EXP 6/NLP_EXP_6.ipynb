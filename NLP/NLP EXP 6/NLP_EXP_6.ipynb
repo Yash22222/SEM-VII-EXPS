{
  "nbformat": 4,
  "nbformat_minor": 0,
  "metadata": {
    "colab": {
      "provenance": []
    },
    "kernelspec": {
      "name": "python3",
      "display_name": "Python 3"
    },
    "language_info": {
      "name": "python"
    }
  },
  "cells": [
    {
      "cell_type": "markdown",
      "source": [
        "## ***Aim - Study the Different POS Taggers & Perform POS Tagging on the Given Text***"
      ],
      "metadata": {
        "id": "kf8GrH6ddgK6"
      }
    },
    {
      "cell_type": "markdown",
      "source": [
        "## ***Yash Ashok Shirsath BE AI & DS***\n",
        "\n",
        "\n"
      ],
      "metadata": {
        "id": "cla2Tf_nds6T"
      }
    },
    {
      "cell_type": "code",
      "execution_count": 6,
      "metadata": {
        "colab": {
          "base_uri": "https://localhost:8080/"
        },
        "id": "spPU4jfjdfVV",
        "outputId": "11f505fd-3ffe-45c4-9317-d11b92ec16c5"
      },
      "outputs": [
        {
          "output_type": "stream",
          "name": "stderr",
          "text": [
            "[nltk_data] Downloading package punkt to /root/nltk_data...\n",
            "[nltk_data]   Unzipping tokenizers/punkt.zip.\n"
          ]
        }
      ],
      "source": [
        "import spacy\n",
        "import nltk\n",
        "nltk.download('punkt')\n",
        "from nltk import pos_tag"
      ]
    },
    {
      "cell_type": "code",
      "source": [
        "nlp = spacy.load('en_core_web_sm')\n",
        "nltk.download('averaged_perceptron_tagger')"
      ],
      "metadata": {
        "colab": {
          "base_uri": "https://localhost:8080/"
        },
        "id": "nXe09aswfyzC",
        "outputId": "8f24fc2e-0ae9-4c9d-a23e-6df6a929e39d"
      },
      "execution_count": 2,
      "outputs": [
        {
          "output_type": "stream",
          "name": "stderr",
          "text": [
            "[nltk_data] Downloading package averaged_perceptron_tagger to\n",
            "[nltk_data]     /root/nltk_data...\n",
            "[nltk_data]   Unzipping taggers/averaged_perceptron_tagger.zip.\n"
          ]
        },
        {
          "output_type": "execute_result",
          "data": {
            "text/plain": [
              "True"
            ]
          },
          "metadata": {},
          "execution_count": 2
        }
      ]
    },
    {
      "cell_type": "code",
      "source": [
        "text = \"Indian Railways is a statutory body under the ownership of the Ministry of Railways of the Government of India.\""
      ],
      "metadata": {
        "id": "Qgzl6-asf6xg"
      },
      "execution_count": 3,
      "outputs": []
    },
    {
      "cell_type": "code",
      "source": [
        "doc = nlp(text)\n",
        "spacy_pos_tags = [(token.text, token.pos_) for token in doc]\n",
        "\n",
        "print(\"spaCy POS Tags:\")\n",
        "for tag in spacy_pos_tags:\n",
        "    print(f\"{tag[0]:<10} {tag[1]:<10}\")"
      ],
      "metadata": {
        "colab": {
          "base_uri": "https://localhost:8080/"
        },
        "id": "OG8WgPb2gBeh",
        "outputId": "676a709d-2950-44bb-abd4-646e31faf1de"
      },
      "execution_count": 4,
      "outputs": [
        {
          "output_type": "stream",
          "name": "stdout",
          "text": [
            "spaCy POS Tags:\n",
            "Indian     PROPN     \n",
            "Railways   PROPN     \n",
            "is         AUX       \n",
            "a          DET       \n",
            "statutory  ADJ       \n",
            "body       NOUN      \n",
            "under      ADP       \n",
            "the        DET       \n",
            "ownership  NOUN      \n",
            "of         ADP       \n",
            "the        DET       \n",
            "Ministry   PROPN     \n",
            "of         ADP       \n",
            "Railways   PROPN     \n",
            "of         ADP       \n",
            "the        DET       \n",
            "Government PROPN     \n",
            "of         ADP       \n",
            "India      PROPN     \n",
            ".          PUNCT     \n"
          ]
        }
      ]
    },
    {
      "cell_type": "code",
      "source": [
        "tokens = nltk.word_tokenize(text)\n",
        "nltk_pos_tags = pos_tag(tokens)\n",
        "\n",
        "print(\"\\nNLTK POS Tags:\")\n",
        "for tag in nltk_pos_tags:\n",
        "    print(f\"{tag[0]:<10} {tag[1]:<10}\")"
      ],
      "metadata": {
        "colab": {
          "base_uri": "https://localhost:8080/"
        },
        "id": "kS4W9wGvgGRB",
        "outputId": "af63b1cc-8a39-435e-808c-4570700ae180"
      },
      "execution_count": 7,
      "outputs": [
        {
          "output_type": "stream",
          "name": "stdout",
          "text": [
            "\n",
            "NLTK POS Tags:\n",
            "Indian     JJ        \n",
            "Railways   NNP       \n",
            "is         VBZ       \n",
            "a          DT        \n",
            "statutory  JJ        \n",
            "body       NN        \n",
            "under      IN        \n",
            "the        DT        \n",
            "ownership  NN        \n",
            "of         IN        \n",
            "the        DT        \n",
            "Ministry   NNP       \n",
            "of         IN        \n",
            "Railways   NNP       \n",
            "of         IN        \n",
            "the        DT        \n",
            "Government NNP       \n",
            "of         IN        \n",
            "India      NNP       \n",
            ".          .         \n"
          ]
        }
      ]
    }
  ]
}