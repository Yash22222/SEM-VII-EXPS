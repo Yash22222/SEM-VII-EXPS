{
  "nbformat": 4,
  "nbformat_minor": 0,
  "metadata": {
    "colab": {
      "provenance": []
    },
    "kernelspec": {
      "name": "python3",
      "display_name": "Python 3"
    },
    "language_info": {
      "name": "python"
    }
  },
  "cells": [
    {
      "cell_type": "markdown",
      "source": [
        "## ***NLP EXPERIMENT NO - 9***"
      ],
      "metadata": {
        "id": "0veOrDV2rqFz"
      }
    },
    {
      "cell_type": "markdown",
      "source": [
        "## ***AIM - Implement Text Similarity Recognizer for the Chosen Text Documents***"
      ],
      "metadata": {
        "id": "vul1VE2NrsMJ"
      }
    },
    {
      "cell_type": "code",
      "source": [
        "from sklearn.feature_extraction.text import TfidfVectorizer\n",
        "from sklearn.metrics.pairwise import cosine_similarity"
      ],
      "metadata": {
        "id": "60g1AKZDsU1J"
      },
      "execution_count": 1,
      "outputs": []
    },
    {
      "cell_type": "code",
      "source": [
        "documents = [\n",
        "    \"India has some of the most spectacular and unforgettable rail journeys in the world.\",\n",
        "    \"Here you experience a simple way to find out everything you need to know in one easy place\",\n",
        "    \"There's no better way to enjoy India's outback, cities, coastal towns and regional areas in comfort.\"\n",
        "]"
      ],
      "metadata": {
        "id": "7t2-y7-JssfU"
      },
      "execution_count": 2,
      "outputs": []
    },
    {
      "cell_type": "code",
      "source": [
        "vectorizer = TfidfVectorizer()\n",
        "tfidf_matrix = vectorizer.fit_transform(documents)"
      ],
      "metadata": {
        "id": "PDZ7KlWftDJ5"
      },
      "execution_count": 3,
      "outputs": []
    },
    {
      "cell_type": "code",
      "source": [
        "cosine_similarities = cosine_similarity(tfidf_matrix)"
      ],
      "metadata": {
        "id": "VJx1mM7TtGGe"
      },
      "execution_count": 4,
      "outputs": []
    },
    {
      "cell_type": "code",
      "source": [
        "for i, doc1 in enumerate(documents):\n",
        "    for j, doc2 in enumerate(documents):\n",
        "        if i < j:\n",
        "            print(f\"Similarity:- {cosine_similarities[i, j]:.2f}\")"
      ],
      "metadata": {
        "colab": {
          "base_uri": "https://localhost:8080/"
        },
        "id": "Rp2X87CotI6m",
        "outputId": "ebd12508-f62d-4537-9ece-a56860dab884"
      },
      "execution_count": 5,
      "outputs": [
        {
          "output_type": "stream",
          "name": "stdout",
          "text": [
            "Similarity:- 0.02\n",
            "Similarity:- 0.11\n",
            "Similarity:- 0.13\n"
          ]
        }
      ]
    }
  ]
}