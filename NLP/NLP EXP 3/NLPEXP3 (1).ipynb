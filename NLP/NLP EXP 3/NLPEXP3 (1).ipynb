{
  "nbformat": 4,
  "nbformat_minor": 0,
  "metadata": {
    "colab": {
      "provenance": []
    },
    "kernelspec": {
      "name": "python3",
      "display_name": "Python 3"
    },
    "language_info": {
      "name": "python"
    }
  },
  "cells": [
    {
      "cell_type": "markdown",
      "source": [
        "####Yash Ashok Shirsath BE AI&DS - 65"
      ],
      "metadata": {
        "id": "1kspZpNKaUDh"
      }
    },
    {
      "cell_type": "markdown",
      "source": [
        "### **Aim - Apply various other text preprocessing techniques for any given text: Stop Word Removal, Lemmatization / Stemming**"
      ],
      "metadata": {
        "id": "-VMivd39aOIi"
      }
    },
    {
      "cell_type": "code",
      "execution_count": 8,
      "metadata": {
        "id": "4eFXmg8NZmAn"
      },
      "outputs": [],
      "source": [
        "text = \"Sir, we request you to please share Mobile No. with us via DM. You may also raise your concern directly on http://railmadad.indianrailways.gov.in or dial 139 for speedy redressal. - RPF India\""
      ]
    },
    {
      "cell_type": "code",
      "source": [
        "pip install nltk"
      ],
      "metadata": {
        "colab": {
          "base_uri": "https://localhost:8080/"
        },
        "id": "2W-v82IYbC0R",
        "outputId": "03fd7274-fd11-4143-bb11-f8ef386bc5a4"
      },
      "execution_count": 5,
      "outputs": [
        {
          "output_type": "stream",
          "name": "stdout",
          "text": [
            "Requirement already satisfied: nltk in /usr/local/lib/python3.10/dist-packages (3.8.1)\n",
            "Requirement already satisfied: click in /usr/local/lib/python3.10/dist-packages (from nltk) (8.1.7)\n",
            "Requirement already satisfied: joblib in /usr/local/lib/python3.10/dist-packages (from nltk) (1.4.2)\n",
            "Requirement already satisfied: regex>=2021.8.3 in /usr/local/lib/python3.10/dist-packages (from nltk) (2024.5.15)\n",
            "Requirement already satisfied: tqdm in /usr/local/lib/python3.10/dist-packages (from nltk) (4.66.4)\n"
          ]
        }
      ]
    },
    {
      "cell_type": "code",
      "source": [
        "import nltk\n",
        "from nltk.corpus import stopwords\n",
        "from nltk.tokenize import word_tokenize\n",
        "from nltk.stem import PorterStemmer, WordNetLemmatizer"
      ],
      "metadata": {
        "id": "zOTOX9i1bRyB"
      },
      "execution_count": 6,
      "outputs": []
    },
    {
      "cell_type": "code",
      "source": [
        "nltk.download('punkt')\n",
        "nltk.download('stopwords')\n",
        "nltk.download('wordnet')"
      ],
      "metadata": {
        "colab": {
          "base_uri": "https://localhost:8080/"
        },
        "id": "Gg6cVBqTbW0R",
        "outputId": "570a9545-0c38-40c6-f790-2d1d5ec19536"
      },
      "execution_count": 7,
      "outputs": [
        {
          "output_type": "stream",
          "name": "stderr",
          "text": [
            "[nltk_data] Downloading package punkt to /root/nltk_data...\n",
            "[nltk_data]   Unzipping tokenizers/punkt.zip.\n",
            "[nltk_data] Downloading package stopwords to /root/nltk_data...\n",
            "[nltk_data]   Unzipping corpora/stopwords.zip.\n",
            "[nltk_data] Downloading package wordnet to /root/nltk_data...\n"
          ]
        },
        {
          "output_type": "execute_result",
          "data": {
            "text/plain": [
              "True"
            ]
          },
          "metadata": {},
          "execution_count": 7
        }
      ]
    },
    {
      "cell_type": "code",
      "source": [
        "tokens = word_tokenize(text)\n",
        "print(\"Original Tokens:\", tokens)"
      ],
      "metadata": {
        "colab": {
          "base_uri": "https://localhost:8080/"
        },
        "id": "ICRhFTW4baLR",
        "outputId": "bdc68e18-7577-48fd-8271-3903a0e1545f"
      },
      "execution_count": 19,
      "outputs": [
        {
          "output_type": "stream",
          "name": "stdout",
          "text": [
            "Original Tokens: ['Sir', ',', 'we', 'request', 'you', 'to', 'please', 'share', 'Mobile', 'No', '.', 'with', 'us', 'via', 'DM', '.', 'You', 'may', 'also', 'raise', 'your', 'concern', 'directly', 'on', 'http', ':', '//railmadad.indianrailways.gov.in', 'or', 'dial', '139', 'for', 'speedy', 'redressal', '.', '-', 'RPF', 'India']\n"
          ]
        }
      ]
    },
    {
      "cell_type": "code",
      "source": [
        "stop_words = set(stopwords.words('english'))\n",
        "filtered_tokens = [word for word in tokens if word.lower() not in stop_words]\n",
        "print(\"Filtered Tokens (Stop Words Removed):-\", filtered_tokens)"
      ],
      "metadata": {
        "colab": {
          "base_uri": "https://localhost:8080/"
        },
        "id": "Oz5IuGLObory",
        "outputId": "303a4844-69ed-4054-bdd5-3c6ac7982976"
      },
      "execution_count": 17,
      "outputs": [
        {
          "output_type": "stream",
          "name": "stdout",
          "text": [
            "Filtered Tokens (Stop Words Removed):- ['Sir', ',', 'request', 'please', 'share', 'Mobile', '.', 'us', 'via', 'DM', '.', 'may', 'also', 'raise', 'concern', 'directly', 'http', ':', '//railmadad.indianrailways.gov.in', 'dial', '139', 'speedy', 'redressal', '.', '-', 'RPF', 'India']\n"
          ]
        }
      ]
    },
    {
      "cell_type": "code",
      "source": [
        "stemmer = PorterStemmer()\n",
        "stemmed_tokens = [stemmer.stem(word) for word in filtered_tokens]\n",
        "print(\"Stemmed Tokens:-\", stemmed_tokens)"
      ],
      "metadata": {
        "colab": {
          "base_uri": "https://localhost:8080/"
        },
        "id": "0oAINMgvbuBh",
        "outputId": "6fbebebf-9d4c-4170-ece2-79fbe21a4da3"
      },
      "execution_count": 15,
      "outputs": [
        {
          "output_type": "stream",
          "name": "stdout",
          "text": [
            "Stemmed Tokens:- ['sir', ',', 'request', 'pleas', 'share', 'mobil', '.', 'us', 'via', 'dm', '.', 'may', 'also', 'rais', 'concern', 'directli', 'http', ':', '//railmadad.indianrailways.gov.in', 'dial', '139', 'speedi', 'redress', '.', '-', 'rpf', 'india']\n"
          ]
        }
      ]
    },
    {
      "cell_type": "code",
      "source": [
        "lemmatizer = WordNetLemmatizer()\n",
        "lemmatized_tokens = [lemmatizer.lemmatize(word) for word in filtered_tokens]\n",
        "print(\"Lemmatized Tokens:-\", lemmatized_tokens)"
      ],
      "metadata": {
        "colab": {
          "base_uri": "https://localhost:8080/"
        },
        "id": "uRABqrmbb39B",
        "outputId": "9f09559b-a47a-4fd0-8db9-5e0fcfd15ce6"
      },
      "execution_count": 14,
      "outputs": [
        {
          "output_type": "stream",
          "name": "stdout",
          "text": [
            "Lemmatized Tokens:- ['Sir', ',', 'request', 'please', 'share', 'Mobile', '.', 'u', 'via', 'DM', '.', 'may', 'also', 'raise', 'concern', 'directly', 'http', ':', '//railmadad.indianrailways.gov.in', 'dial', '139', 'speedy', 'redressal', '.', '-', 'RPF', 'India']\n"
          ]
        }
      ]
    }
  ]
}