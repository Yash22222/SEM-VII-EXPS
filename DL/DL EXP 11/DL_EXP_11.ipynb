{
  "nbformat": 4,
  "nbformat_minor": 0,
  "metadata": {
    "colab": {
      "provenance": []
    },
    "kernelspec": {
      "name": "python3",
      "display_name": "Python 3"
    },
    "language_info": {
      "name": "python"
    }
  },
  "cells": [
    {
      "cell_type": "code",
      "execution_count": 1,
      "metadata": {
        "colab": {
          "base_uri": "https://localhost:8080/"
        },
        "id": "7NbXQoUE_V6m",
        "outputId": "ad0a9771-846e-475e-a723-060fd84419d8"
      },
      "outputs": [
        {
          "output_type": "stream",
          "name": "stdout",
          "text": [
            "Epoch [0/100], Loss: 1.0203\n",
            "Epoch [10/100], Loss: 0.9600\n",
            "Epoch [20/100], Loss: 0.9149\n",
            "Epoch [30/100], Loss: 0.8710\n",
            "Epoch [40/100], Loss: 0.8210\n",
            "Epoch [50/100], Loss: 0.7607\n",
            "Epoch [60/100], Loss: 0.6868\n",
            "Epoch [70/100], Loss: 0.6009\n",
            "Epoch [80/100], Loss: 0.5072\n",
            "Epoch [90/100], Loss: 0.4023\n",
            "Predicted output: tensor([[0.9185]])\n"
          ]
        }
      ],
      "source": [
        "import torch\n",
        "import torch.nn as nn\n",
        "import torch.optim as optim\n",
        "\n",
        "# Define the GRU model class\n",
        "class GRUScratch(nn.Module):\n",
        "    def __init__(self, num_inputs, num_hiddens, num_outputs):\n",
        "        super(GRUScratch, self).__init__()\n",
        "        self.num_hiddens = num_hiddens\n",
        "        self.gru = nn.GRU(num_inputs, num_hiddens, batch_first=True)\n",
        "        self.fc = nn.Linear(num_hiddens, num_outputs)\n",
        "\n",
        "    def forward(self, x, h0=None):\n",
        "        # Forward pass through GRU layer\n",
        "        out, h_n = self.gru(x, h0)\n",
        "        out = self.fc(out[:, -1, :])  # Take output from last time step\n",
        "        return out, h_n\n",
        "\n",
        "# Parameters\n",
        "input_size = 10   # Example input size\n",
        "hidden_size = 32  # Number of GRU units\n",
        "output_size = 1   # Example output size for regression\n",
        "\n",
        "# Initialize model, loss, and optimizer\n",
        "model = GRUScratch(input_size, hidden_size, output_size)\n",
        "criterion = nn.MSELoss()  # Example loss function\n",
        "optimizer = optim.Adam(model.parameters(), lr=0.001)\n",
        "\n",
        "# Example training loop (with dummy data)\n",
        "# Assuming X_train is your training data and y_train is your target data\n",
        "X_train = torch.randn(100, 10, input_size)  # 100 sequences, 10 timesteps, input_size\n",
        "y_train = torch.randn(100, output_size)     # 100 target values\n",
        "\n",
        "for epoch in range(100):  # Number of training epochs\n",
        "    model.train()\n",
        "    optimizer.zero_grad()\n",
        "    outputs, _ = model(X_train)\n",
        "    loss = criterion(outputs, y_train)\n",
        "    loss.backward()\n",
        "    optimizer.step()\n",
        "\n",
        "    if epoch % 10 == 0:\n",
        "        print(f\"Epoch [{epoch}/100], Loss: {loss.item():.4f}\")\n",
        "\n",
        "# Testing/prediction\n",
        "model.eval()\n",
        "with torch.no_grad():\n",
        "    test_input = torch.randn(1, 10, input_size)  # Example test sequence\n",
        "    predicted_output, _ = model(test_input)\n",
        "    print(\"Predicted output:\", predicted_output)"
      ]
    }
  ]
}