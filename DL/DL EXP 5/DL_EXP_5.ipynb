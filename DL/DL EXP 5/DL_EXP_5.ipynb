{
  "nbformat": 4,
  "nbformat_minor": 0,
  "metadata": {
    "colab": {
      "provenance": []
    },
    "kernelspec": {
      "name": "python3",
      "display_name": "Python 3"
    },
    "language_info": {
      "name": "python"
    }
  },
  "cells": [
    {
      "cell_type": "markdown",
      "source": [
        "## ***AIM - Design and implement a fully connected deep neural network with at least 2 hidden layers for a classification application. Use appropriate Learning Algorithm, output function and loss function.***"
      ],
      "metadata": {
        "id": "Mp0IS2ZOdnE1"
      }
    },
    {
      "cell_type": "markdown",
      "source": [
        "## ***Yash Ashok Shirsath BE AI & DS 65 / DL EXP 5***"
      ],
      "metadata": {
        "id": "O59MRbiWdzwW"
      }
    },
    {
      "cell_type": "code",
      "source": [
        "import tensorflow as tf\n",
        "from tensorflow.keras import layers, models, optimizers\n",
        "import numpy as np"
      ],
      "metadata": {
        "id": "HnzuJetjmcwR"
      },
      "execution_count": 1,
      "outputs": []
    },
    {
      "cell_type": "code",
      "source": [
        "np.random.seed(0)\n",
        "tf.random.set_seed(0)"
      ],
      "metadata": {
        "id": "JIigR6BmmrG0"
      },
      "execution_count": 2,
      "outputs": []
    },
    {
      "cell_type": "code",
      "source": [
        "X_train = np.array([[0.1, 0.2], [0.4, 0.6], [0.5, 0.8], [0.9, 0.7]])\n",
        "y_train = np.array([0, 1, 1, 2])  # Class labels: 0, 1, or 2"
      ],
      "metadata": {
        "id": "_Pp0-Ab8US9i"
      },
      "execution_count": 3,
      "outputs": []
    },
    {
      "cell_type": "code",
      "source": [
        "y_train = tf.keras.utils.to_categorical(y_train, 3)"
      ],
      "metadata": {
        "id": "Kf7Rh-DuUdJb"
      },
      "execution_count": 4,
      "outputs": []
    },
    {
      "cell_type": "code",
      "source": [
        "model = models.Sequential([\n",
        "    layers.Dense(5, activation='relu', input_shape=(2,)),  # Hidden Layer 1 with 5 neurons\n",
        "    layers.Dense(4, activation='relu'),                   # Hidden Layer 2 with 4 neurons\n",
        "    layers.Dense(3, activation='softmax')                 # Output Layer with 3 neurons (for 3 classes)\n",
        "])"
      ],
      "metadata": {
        "id": "UiyCWs1nUgWg",
        "colab": {
          "base_uri": "https://localhost:8080/"
        },
        "outputId": "a1047bb4-3bb0-46e1-fd25-ac93a7c4bf25"
      },
      "execution_count": 5,
      "outputs": [
        {
          "output_type": "stream",
          "name": "stderr",
          "text": [
            "/usr/local/lib/python3.10/dist-packages/keras/src/layers/core/dense.py:87: UserWarning: Do not pass an `input_shape`/`input_dim` argument to a layer. When using Sequential models, prefer using an `Input(shape)` object as the first layer in the model instead.\n",
            "  super().__init__(activity_regularizer=activity_regularizer, **kwargs)\n"
          ]
        }
      ]
    },
    {
      "cell_type": "code",
      "source": [
        "optimizer = optimizers.SGD(learning_rate=0.1)\n",
        "model.compile(optimizer=optimizer,\n",
        "              loss='categorical_crossentropy',\n",
        "              metrics=['accuracy'])"
      ],
      "metadata": {
        "id": "AyouXA-CUkM7"
      },
      "execution_count": 6,
      "outputs": []
    },
    {
      "cell_type": "code",
      "source": [
        "initial_weights = model.get_weights()\n",
        "print(\"Initial Weights and Biases:\")\n",
        "for i, weight in enumerate(initial_weights):\n",
        "    print(f\"Weights {i + 1}:\\n\", weight)"
      ],
      "metadata": {
        "colab": {
          "base_uri": "https://localhost:8080/"
        },
        "id": "Uh2JhMBSUo6r",
        "outputId": "db80fd29-ec9b-4689-f335-6aa0e4dc9e65"
      },
      "execution_count": 7,
      "outputs": [
        {
          "output_type": "stream",
          "name": "stdout",
          "text": [
            "Initial Weights and Biases:\n",
            "Weights 1:\n",
            " [[-0.4782095  -0.34998256 -0.26437116  0.5818349   0.9214212 ]\n",
            " [ 0.3038571   0.2144357   0.04062456 -0.40243196 -0.74695534]]\n",
            "Weights 2:\n",
            " [0. 0. 0. 0. 0.]\n",
            "Weights 3:\n",
            " [[ 0.35497105  0.18415856 -0.2605368  -0.43405816]\n",
            " [ 0.5758387   0.70091546 -0.6212727  -0.7666468 ]\n",
            " [-0.34738088  0.24265182  0.13381106 -0.8091481 ]\n",
            " [-0.08264339 -0.7998346   0.3733716  -0.750511  ]\n",
            " [ 0.60022426 -0.06584388  0.60498095 -0.4021003 ]]\n",
            "Weights 4:\n",
            " [0. 0. 0. 0.]\n",
            "Weights 5:\n",
            " [[ 0.77636886  0.26059175 -0.20806754]\n",
            " [-0.4984723  -0.21537685 -0.00675464]\n",
            " [ 0.8806342  -0.6877307   0.0418973 ]\n",
            " [ 0.30440676 -0.25365412  0.92158604]]\n",
            "Weights 6:\n",
            " [0. 0. 0.]\n"
          ]
        }
      ]
    },
    {
      "cell_type": "code",
      "source": [
        "num_iterations = 5\n",
        "\n",
        "for epoch in range(num_iterations):\n",
        "    # Forward pass to compute predictions\n",
        "    y_pred = model(X_train)\n",
        "\n",
        "    # Compute the loss using categorical cross-entropy\n",
        "    loss_fn = tf.keras.losses.CategoricalCrossentropy()\n",
        "    loss_value = loss_fn(y_train, y_pred).numpy()\n",
        "\n",
        "    # Compute the gradients manually using GradientTape\n",
        "    with tf.GradientTape() as tape:\n",
        "        y_pred = model(X_train)\n",
        "        loss_value = loss_fn(y_train, y_pred)\n",
        "\n",
        "    grads = tape.gradient(loss_value, model.trainable_variables)\n",
        "\n",
        "    # Update weights using gradient descent\n",
        "    optimizer.apply_gradients(zip(grads, model.trainable_variables))\n",
        "\n",
        "    # Print the loss and cost function value for each iteration\n",
        "    print(f\"\\nIteration {epoch + 1}, Loss Value: {loss_value}\")"
      ],
      "metadata": {
        "colab": {
          "base_uri": "https://localhost:8080/"
        },
        "id": "Rs7-j5T6UqAm",
        "outputId": "6aa7ab6f-2856-4aff-8342-0d4aa7001411"
      },
      "execution_count": 8,
      "outputs": [
        {
          "output_type": "stream",
          "name": "stdout",
          "text": [
            "\n",
            "Iteration 1, Loss Value: 1.1266063451766968\n",
            "\n",
            "Iteration 2, Loss Value: 1.1172879934310913\n",
            "\n",
            "Iteration 3, Loss Value: 1.1088210344314575\n",
            "\n",
            "Iteration 4, Loss Value: 1.1013492345809937\n",
            "\n",
            "Iteration 5, Loss Value: 1.0943844318389893\n"
          ]
        }
      ]
    },
    {
      "cell_type": "code",
      "source": [
        "updated_weights = model.get_weights()\n",
        "print(\"\\nUpdated Weights and Biases after 5 iterations:\")\n",
        "for i, weight in enumerate(updated_weights):\n",
        "    print(f\"Weights {i + 1}:\\n\", weight)"
      ],
      "metadata": {
        "colab": {
          "base_uri": "https://localhost:8080/"
        },
        "id": "DybMqg3uUwuW",
        "outputId": "7a1d0650-de63-4d25-d336-9eda472635b4"
      },
      "execution_count": 9,
      "outputs": [
        {
          "output_type": "stream",
          "name": "stdout",
          "text": [
            "\n",
            "Updated Weights and Biases after 5 iterations:\n",
            "Weights 1:\n",
            " [[-0.47679725 -0.34859413 -0.26437116  0.5816937   0.87676233]\n",
            " [ 0.3068096   0.21736503  0.04062456 -0.4025418  -0.78168994]]\n",
            "Weights 2:\n",
            " [ 0.01668483  0.01693275  0.         -0.00015688 -0.0496209 ]\n",
            "Weights 3:\n",
            " [[ 0.35617158  0.18367028 -0.2605368  -0.43405816]\n",
            " [ 0.5767113   0.7005591  -0.6212727  -0.7666468 ]\n",
            " [-0.34738088  0.24265182  0.13381106 -0.8091481 ]\n",
            " [-0.09876584 -0.7998346   0.36940473 -0.750511  ]\n",
            " [ 0.5828686  -0.06584388  0.6005969  -0.4021003 ]]\n",
            "Weights 4:\n",
            " [-0.00696797 -0.02519598 -0.01646969  0.        ]\n",
            "Weights 5:\n",
            " [[ 0.77051944  0.25585335 -0.19747974]\n",
            " [-0.49821368 -0.21549895 -0.00689117]\n",
            " [ 0.868268   -0.69609004  0.06262276]\n",
            " [ 0.30440676 -0.25365412  0.92158604]]\n",
            "Weights 6:\n",
            " [-0.04948383  0.08513352 -0.03564968]\n"
          ]
        }
      ]
    }
  ]
}