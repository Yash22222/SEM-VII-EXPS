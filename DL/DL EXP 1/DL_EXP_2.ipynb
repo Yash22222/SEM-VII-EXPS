{
  "nbformat": 4,
  "nbformat_minor": 0,
  "metadata": {
    "colab": {
      "provenance": []
    },
    "kernelspec": {
      "name": "python3",
      "display_name": "Python 3"
    },
    "language_info": {
      "name": "python"
    }
  },
  "cells": [
    {
      "cell_type": "markdown",
      "source": [
        "### ***Implement Multilayer Perceptron Algorithm to Simulate XOR Gate.***\n",
        "### ***Yash Ashok Shirsath BE AI & DS 65***"
      ],
      "metadata": {
        "id": "5t241EuWVTsx"
      }
    },
    {
      "cell_type": "code",
      "execution_count": 16,
      "metadata": {
        "id": "2CXAArN8PQl9"
      },
      "outputs": [],
      "source": [
        "import numpy as np"
      ]
    },
    {
      "cell_type": "code",
      "source": [
        "# Activation function (sigmoid)\n",
        "def sigmoid(x):\n",
        "    return 1 / (1 + np.exp(-x))"
      ],
      "metadata": {
        "id": "BzV6KgntPWTH"
      },
      "execution_count": 17,
      "outputs": []
    },
    {
      "cell_type": "code",
      "source": [
        "# Derivative of the activation function\n",
        "def sigmoid_derivative(x):\n",
        "    return x * (1 - x)"
      ],
      "metadata": {
        "id": "_5dJtf41Pb3r"
      },
      "execution_count": 18,
      "outputs": []
    },
    {
      "cell_type": "code",
      "source": [
        "# Multilayer Perceptron class\n",
        "class MLP:\n",
        "    def __init__(self, input_dim, hidden_dim, output_dim):\n",
        "        self.input_dim = input_dim\n",
        "        self.hidden_dim = hidden_dim\n",
        "        self.output_dim = output_dim\n",
        "\n",
        "        # Initialize weights and biases for the hidden and output layers\n",
        "        self.weights_hidden = np.random.uniform(size=(self.input_dim, self.hidden_dim))\n",
        "        self.bias_hidden = np.random.uniform(size=(1, self.hidden_dim))\n",
        "        self.weights_output = np.random.uniform(size=(self.hidden_dim, self.output_dim))\n",
        "        self.bias_output = np.random.uniform(size=(1, self.output_dim))\n",
        "\n",
        "    def train(self, X, y, epochs=10000, learning_rate=0.1):\n",
        "        for epoch in range(epochs):\n",
        "            # Forward Propagation\n",
        "            hidden_layer_input = np.dot(X, self.weights_hidden) + self.bias_hidden\n",
        "            hidden_layer_output = sigmoid(hidden_layer_input)\n",
        "\n",
        "            output_layer_input = np.dot(hidden_layer_output, self.weights_output) + self.bias_output\n",
        "            predicted_output = sigmoid(output_layer_input)\n",
        "\n",
        "            # Calculate error\n",
        "            error = y - predicted_output\n",
        "\n",
        "            # Backpropagation\n",
        "            output_gradient = sigmoid_derivative(predicted_output) * error\n",
        "            hidden_error = output_gradient.dot(self.weights_output.T)\n",
        "            hidden_gradient = sigmoid_derivative(hidden_layer_output) * hidden_error\n",
        "\n",
        "            # Update Weights and Biases\n",
        "            self.weights_output += learning_rate * hidden_layer_output.T.dot(output_gradient)\n",
        "            self.bias_output += learning_rate * np.sum(output_gradient, axis=0, keepdims=True)\n",
        "\n",
        "            self.weights_hidden += learning_rate * X.T.dot(hidden_gradient)\n",
        "            self.bias_hidden += learning_rate * np.sum(hidden_gradient, axis=0, keepdims=True)\n",
        "\n",
        "    def predict(self, X):\n",
        "        hidden_layer_input = np.dot(X, self.weights_hidden) + self.bias_hidden\n",
        "        hidden_layer_output = sigmoid(hidden_layer_input)\n",
        "\n",
        "        output_layer_input = np.dot(hidden_layer_output, self.weights_output) + self.bias_output\n",
        "        predicted_output = sigmoid(output_layer_input)\n",
        "\n",
        "        return np.round(predicted_output)"
      ],
      "metadata": {
        "id": "0cLbbfCwPg-X"
      },
      "execution_count": 19,
      "outputs": []
    },
    {
      "cell_type": "code",
      "source": [
        "# XOR Gate Input and Output\n",
        "X = np.array([[0, 0],\n",
        "              [0, 1],\n",
        "              [1, 0],\n",
        "              [1, 1]])\n",
        "\n",
        "y = np.array([[0],\n",
        "              [1],\n",
        "              [1],\n",
        "              [0]])"
      ],
      "metadata": {
        "id": "AedPSFpGPj19"
      },
      "execution_count": 20,
      "outputs": []
    },
    {
      "cell_type": "code",
      "source": [
        "# Create and train the MLP for XOR Gate\n",
        "mlp = MLP(input_dim=2, hidden_dim=2, output_dim=1)\n",
        "mlp.train(X, y, epochs=10000, learning_rate=0.1)"
      ],
      "metadata": {
        "id": "KOROTsolPms-"
      },
      "execution_count": 21,
      "outputs": []
    },
    {
      "cell_type": "code",
      "source": [
        "# Test the XOR Gate\n",
        "predictions = mlp.predict(X)\n",
        "\n",
        "print(\"Predictions:\")\n",
        "print(predictions)"
      ],
      "metadata": {
        "colab": {
          "base_uri": "https://localhost:8080/"
        },
        "id": "_M1SxuvHPpth",
        "outputId": "12e51237-4ba4-4fe9-f42f-ac7534ebd924"
      },
      "execution_count": 22,
      "outputs": [
        {
          "output_type": "stream",
          "name": "stdout",
          "text": [
            "Predictions:\n",
            "[[0.]\n",
            " [1.]\n",
            " [1.]\n",
            " [0.]]\n"
          ]
        }
      ]
    }
  ]
}